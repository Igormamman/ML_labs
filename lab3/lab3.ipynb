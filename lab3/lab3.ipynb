{
 "metadata": {
  "language_info": {
   "codemirror_mode": {
    "name": "ipython",
    "version": 3
   },
   "file_extension": ".py",
   "mimetype": "text/x-python",
   "name": "python",
   "nbconvert_exporter": "python",
   "pygments_lexer": "ipython3",
   "version": "3.9.2-final"
  },
  "orig_nbformat": 2,
  "kernelspec": {
   "name": "python39264bite55b33bbf6354f7595b9e9c4f5cde901",
   "display_name": "Python 3.9.2 64-bit"
  }
 },
 "nbformat": 4,
 "nbformat_minor": 2,
 "cells": [
  {
   "cell_type": "code",
   "execution_count": 392,
   "metadata": {},
   "outputs": [],
   "source": [
    "from IPython.display import Image\n",
    "import numpy as np\n",
    "import pandas as pd\n",
    "from sklearn import svm, datasets\n",
    "from sklearn.model_selection import train_test_split\n",
    "from sklearn.datasets import load_iris, load_boston\n",
    "from sklearn.neighbors import KNeighborsRegressor, KNeighborsClassifier\n",
    "from sklearn.model_selection import cross_val_score, cross_validate\n",
    "from sklearn.model_selection import KFold, RepeatedKFold, LeaveOneOut, LeavePOut, ShuffleSplit, StratifiedKFold\n",
    "from sklearn.metrics import accuracy_score, balanced_accuracy_score\n",
    "from sklearn.metrics import precision_score, recall_score, f1_score, classification_report\n",
    "from sklearn.metrics import confusion_matrix\n",
    "from sklearn.metrics import mean_absolute_error, mean_squared_error, mean_squared_log_error, median_absolute_error, r2_score \n",
    "from sklearn.metrics import roc_curve, roc_auc_score\n",
    "from sklearn.model_selection import GridSearchCV, RandomizedSearchCV\n",
    "from sklearn.model_selection import learning_curve, validation_curve\n",
    "import seaborn as sns\n",
    "import matplotlib.pyplot as plt\n",
    "from sklearn.preprocessing import OrdinalEncoder\n",
    "%matplotlib inline \n",
    "sns.set(style=\"ticks\")"
   ]
  },
  {
   "cell_type": "code",
   "execution_count": 393,
   "metadata": {},
   "outputs": [
    {
     "output_type": "execute_result",
     "data": {
      "text/plain": [
       "car_ID                int64\n",
       "symboling             int64\n",
       "CarName              object\n",
       "fueltype             object\n",
       "aspiration           object\n",
       "doornumber           object\n",
       "carbody              object\n",
       "drivewheel           object\n",
       "enginelocation       object\n",
       "wheelbase           float64\n",
       "carlength           float64\n",
       "carwidth            float64\n",
       "carheight           float64\n",
       "curbweight            int64\n",
       "enginetype           object\n",
       "cylindernumber       object\n",
       "enginesize            int64\n",
       "fuelsystem           object\n",
       "boreratio           float64\n",
       "stroke              float64\n",
       "compressionratio    float64\n",
       "horsepower            int64\n",
       "peakrpm               int64\n",
       "citympg               int64\n",
       "highwaympg            int64\n",
       "price               float64\n",
       "dtype: object"
      ]
     },
     "metadata": {},
     "execution_count": 393
    }
   ],
   "source": [
    "data = pd.read_csv(\"/home/igor/Downloads/CarPrice_Assignment.xls\",sep=',')\n",
    "data.dtypes"
   ]
  },
  {
   "cell_type": "code",
   "execution_count": 394,
   "metadata": {},
   "outputs": [],
   "source": [
    "cleanup_nums = {\"doornumber\":     {\"four\": 4, \"two\": 2},\n",
    "                \"cylindernumber\": {\"four\": 4, \"six\": 6, \"five\": 5, \"eight\": 8,\n",
    "                                  \"two\": 2, \"twelve\": 12, \"three\":3 }}\n",
    "data = data.replace(cleanup_nums)\n",
    "data[\"carbody\"] = data[\"carbody\"].astype('category')\n",
    "data[\"carbody_cat\"] = data[\"carbody\"].cat.codes\n",
    "data.head()\n",
    "data[\"cylindernumber\"].value_counts()\n",
    "cleanup_nums = {\"doornumber\":     {\"four\": 4, \"two\": 2},\n",
    "                \"cylindernumber\": {\"four\": 4, \"six\": 6, \"five\": 5, \"eight\": 8,\n",
    "                                  \"two\": 2, \"twelve\": 12, \"three\":3 }}\n",
    "data = data.replace(cleanup_nums)\n",
    "data[\"carbody\"] = data[\"carbody\"].astype('category')\n",
    "data[\"carbody_cat\"] = data[\"carbody\"].cat.codes\n",
    "data=pd.get_dummies(data, columns=[\"drivewheel\"], prefix=[\"drive\"])\n",
    "data[\"OHC_Code\"] = np.where(data[\"enginetype\"].str.contains(\"ohc\"), 1, 0)\n",
    "data.drop(data[(data['aspiration']=='turbo')].index,inplace=True)\n",
    "data.drop(data[(data['fueltype']=='diesel')].index,inplace=True)\n",
    "data.drop([\"aspiration\",\"carbody\",\"CarName\",\"enginelocation\",\"enginetype\",\n",
    "\"fueltype\",\"fuelsystem\",\"drive_fwd\",\"symboling\",\"car_ID\",\"doornumber\",\"carheight\"],axis=1,inplace=True)\n"
   ]
  },
  {
   "cell_type": "code",
   "execution_count": 395,
   "metadata": {},
   "outputs": [
    {
     "output_type": "execute_result",
     "data": {
      "text/plain": [
       "                  wheelbase  carlength  carwidth  curbweight  cylindernumber  \\\n",
       "wheelbase          1.000000   0.863551  0.771575    0.753595        0.407787   \n",
       "carlength          0.863551   1.000000  0.822834    0.873632        0.487049   \n",
       "carwidth           0.771575   0.822834  1.000000    0.844206        0.608466   \n",
       "curbweight         0.753595   0.873632  0.844206    1.000000        0.691405   \n",
       "cylindernumber     0.407787   0.487049  0.608466    0.691405        1.000000   \n",
       "enginesize         0.591837   0.703488  0.752030    0.872782        0.882794   \n",
       "boreratio          0.455094   0.594730  0.552074    0.625109        0.300113   \n",
       "stroke             0.124127   0.099921  0.121868    0.087940        0.021244   \n",
       "compressionratio  -0.449289  -0.394471 -0.302124   -0.321993       -0.036195   \n",
       "horsepower         0.422167   0.606867  0.700469    0.813645        0.776246   \n",
       "peakrpm           -0.264759  -0.218149 -0.124407   -0.171154       -0.169695   \n",
       "citympg           -0.580059  -0.779157 -0.726442   -0.847613       -0.499531   \n",
       "highwaympg        -0.633845  -0.794018 -0.741147   -0.868327       -0.527000   \n",
       "price              0.542459   0.657901  0.732011    0.831856        0.755364   \n",
       "carbody_cat        0.376906   0.304269  0.097441    0.088058       -0.030936   \n",
       "drive_4wd         -0.059571  -0.047702 -0.087634    0.023798       -0.042529   \n",
       "drive_rwd          0.415579   0.505995  0.465912    0.656716        0.372498   \n",
       "OHC_Code          -0.188111  -0.099035 -0.109705   -0.100300        0.287682   \n",
       "\n",
       "                  enginesize  boreratio    stroke  compressionratio  \\\n",
       "wheelbase           0.591837   0.455094  0.124127         -0.449289   \n",
       "carlength           0.703488   0.594730  0.099921         -0.394471   \n",
       "carwidth            0.752030   0.552074  0.121868         -0.302124   \n",
       "curbweight          0.872782   0.625109  0.087940         -0.321993   \n",
       "cylindernumber      0.882794   0.300113  0.021244         -0.036195   \n",
       "enginesize          1.000000   0.577834  0.155221         -0.223768   \n",
       "boreratio           0.577834   1.000000 -0.118141         -0.181321   \n",
       "stroke              0.155221  -0.118141  1.000000         -0.217118   \n",
       "compressionratio   -0.223768  -0.181321 -0.217118          1.000000   \n",
       "horsepower          0.868798   0.585599  0.076516         -0.041765   \n",
       "peakrpm            -0.219723  -0.210467  0.067930          0.293411   \n",
       "citympg            -0.701495  -0.613023 -0.050018          0.353192   \n",
       "highwaympg         -0.723239  -0.599998 -0.037712          0.366421   \n",
       "price               0.888816   0.558740  0.039450         -0.240339   \n",
       "carbody_cat        -0.081546  -0.035070  0.011235         -0.117340   \n",
       "drive_4wd          -0.079863   0.037708 -0.200851         -0.098277   \n",
       "drive_rwd           0.553151   0.558973 -0.072029         -0.043904   \n",
       "OHC_Code            0.175103  -0.044152  0.177090          0.062849   \n",
       "\n",
       "                  horsepower   peakrpm   citympg  highwaympg     price  \\\n",
       "wheelbase           0.422167 -0.264759 -0.580059   -0.633845  0.542459   \n",
       "carlength           0.606867 -0.218149 -0.779157   -0.794018  0.657901   \n",
       "carwidth            0.700469 -0.124407 -0.726442   -0.741147  0.732011   \n",
       "curbweight          0.813645 -0.171154 -0.847613   -0.868327  0.831856   \n",
       "cylindernumber      0.776246 -0.169695 -0.499531   -0.527000  0.755364   \n",
       "enginesize          0.868798 -0.219723 -0.701495   -0.723239  0.888816   \n",
       "boreratio           0.585599 -0.210467 -0.613023   -0.599998  0.558740   \n",
       "stroke              0.076516  0.067930 -0.050018   -0.037712  0.039450   \n",
       "compressionratio   -0.041765  0.293411  0.353192    0.366421 -0.240339   \n",
       "horsepower          1.000000  0.085114 -0.774101   -0.748830  0.869209   \n",
       "peakrpm             0.085114  1.000000 -0.015436    0.005742 -0.027285   \n",
       "citympg            -0.774101 -0.015436  1.000000    0.976508 -0.734506   \n",
       "highwaympg         -0.748830  0.005742  0.976508    1.000000 -0.738428   \n",
       "price               0.869209 -0.027285 -0.734506   -0.738428  1.000000   \n",
       "carbody_cat        -0.146299 -0.034486 -0.000546   -0.015786 -0.127144   \n",
       "drive_4wd          -0.109901 -0.147778 -0.036775   -0.075759 -0.068924   \n",
       "drive_rwd           0.647456  0.021460 -0.621438   -0.632116  0.637254   \n",
       "OHC_Code            0.030858 -0.124722  0.179747    0.177011 -0.009557   \n",
       "\n",
       "                  carbody_cat  drive_4wd  drive_rwd  OHC_Code  \n",
       "wheelbase            0.376906  -0.059571   0.415579 -0.188111  \n",
       "carlength            0.304269  -0.047702   0.505995 -0.099035  \n",
       "carwidth             0.097441  -0.087634   0.465912 -0.109705  \n",
       "curbweight           0.088058   0.023798   0.656716 -0.100300  \n",
       "cylindernumber      -0.030936  -0.042529   0.372498  0.287682  \n",
       "enginesize          -0.081546  -0.079863   0.553151  0.175103  \n",
       "boreratio           -0.035070   0.037708   0.558973 -0.044152  \n",
       "stroke               0.011235  -0.200851  -0.072029  0.177090  \n",
       "compressionratio    -0.117340  -0.098277  -0.043904  0.062849  \n",
       "horsepower          -0.146299  -0.109901   0.647456  0.030858  \n",
       "peakrpm             -0.034486  -0.147778   0.021460 -0.124722  \n",
       "citympg             -0.000546  -0.036775  -0.621438  0.179747  \n",
       "highwaympg          -0.015786  -0.075759  -0.632116  0.177011  \n",
       "price               -0.127144  -0.068924   0.637254 -0.009557  \n",
       "carbody_cat          1.000000   0.165922  -0.201838 -0.035140  \n",
       "drive_4wd            0.165922   1.000000  -0.145657  0.050632  \n",
       "drive_rwd           -0.201838  -0.145657   1.000000 -0.293796  \n",
       "OHC_Code            -0.035140   0.050632  -0.293796  1.000000  "
      ],
      "text/html": "<div>\n<style scoped>\n    .dataframe tbody tr th:only-of-type {\n        vertical-align: middle;\n    }\n\n    .dataframe tbody tr th {\n        vertical-align: top;\n    }\n\n    .dataframe thead th {\n        text-align: right;\n    }\n</style>\n<table border=\"1\" class=\"dataframe\">\n  <thead>\n    <tr style=\"text-align: right;\">\n      <th></th>\n      <th>wheelbase</th>\n      <th>carlength</th>\n      <th>carwidth</th>\n      <th>curbweight</th>\n      <th>cylindernumber</th>\n      <th>enginesize</th>\n      <th>boreratio</th>\n      <th>stroke</th>\n      <th>compressionratio</th>\n      <th>horsepower</th>\n      <th>peakrpm</th>\n      <th>citympg</th>\n      <th>highwaympg</th>\n      <th>price</th>\n      <th>carbody_cat</th>\n      <th>drive_4wd</th>\n      <th>drive_rwd</th>\n      <th>OHC_Code</th>\n    </tr>\n  </thead>\n  <tbody>\n    <tr>\n      <th>wheelbase</th>\n      <td>1.000000</td>\n      <td>0.863551</td>\n      <td>0.771575</td>\n      <td>0.753595</td>\n      <td>0.407787</td>\n      <td>0.591837</td>\n      <td>0.455094</td>\n      <td>0.124127</td>\n      <td>-0.449289</td>\n      <td>0.422167</td>\n      <td>-0.264759</td>\n      <td>-0.580059</td>\n      <td>-0.633845</td>\n      <td>0.542459</td>\n      <td>0.376906</td>\n      <td>-0.059571</td>\n      <td>0.415579</td>\n      <td>-0.188111</td>\n    </tr>\n    <tr>\n      <th>carlength</th>\n      <td>0.863551</td>\n      <td>1.000000</td>\n      <td>0.822834</td>\n      <td>0.873632</td>\n      <td>0.487049</td>\n      <td>0.703488</td>\n      <td>0.594730</td>\n      <td>0.099921</td>\n      <td>-0.394471</td>\n      <td>0.606867</td>\n      <td>-0.218149</td>\n      <td>-0.779157</td>\n      <td>-0.794018</td>\n      <td>0.657901</td>\n      <td>0.304269</td>\n      <td>-0.047702</td>\n      <td>0.505995</td>\n      <td>-0.099035</td>\n    </tr>\n    <tr>\n      <th>carwidth</th>\n      <td>0.771575</td>\n      <td>0.822834</td>\n      <td>1.000000</td>\n      <td>0.844206</td>\n      <td>0.608466</td>\n      <td>0.752030</td>\n      <td>0.552074</td>\n      <td>0.121868</td>\n      <td>-0.302124</td>\n      <td>0.700469</td>\n      <td>-0.124407</td>\n      <td>-0.726442</td>\n      <td>-0.741147</td>\n      <td>0.732011</td>\n      <td>0.097441</td>\n      <td>-0.087634</td>\n      <td>0.465912</td>\n      <td>-0.109705</td>\n    </tr>\n    <tr>\n      <th>curbweight</th>\n      <td>0.753595</td>\n      <td>0.873632</td>\n      <td>0.844206</td>\n      <td>1.000000</td>\n      <td>0.691405</td>\n      <td>0.872782</td>\n      <td>0.625109</td>\n      <td>0.087940</td>\n      <td>-0.321993</td>\n      <td>0.813645</td>\n      <td>-0.171154</td>\n      <td>-0.847613</td>\n      <td>-0.868327</td>\n      <td>0.831856</td>\n      <td>0.088058</td>\n      <td>0.023798</td>\n      <td>0.656716</td>\n      <td>-0.100300</td>\n    </tr>\n    <tr>\n      <th>cylindernumber</th>\n      <td>0.407787</td>\n      <td>0.487049</td>\n      <td>0.608466</td>\n      <td>0.691405</td>\n      <td>1.000000</td>\n      <td>0.882794</td>\n      <td>0.300113</td>\n      <td>0.021244</td>\n      <td>-0.036195</td>\n      <td>0.776246</td>\n      <td>-0.169695</td>\n      <td>-0.499531</td>\n      <td>-0.527000</td>\n      <td>0.755364</td>\n      <td>-0.030936</td>\n      <td>-0.042529</td>\n      <td>0.372498</td>\n      <td>0.287682</td>\n    </tr>\n    <tr>\n      <th>enginesize</th>\n      <td>0.591837</td>\n      <td>0.703488</td>\n      <td>0.752030</td>\n      <td>0.872782</td>\n      <td>0.882794</td>\n      <td>1.000000</td>\n      <td>0.577834</td>\n      <td>0.155221</td>\n      <td>-0.223768</td>\n      <td>0.868798</td>\n      <td>-0.219723</td>\n      <td>-0.701495</td>\n      <td>-0.723239</td>\n      <td>0.888816</td>\n      <td>-0.081546</td>\n      <td>-0.079863</td>\n      <td>0.553151</td>\n      <td>0.175103</td>\n    </tr>\n    <tr>\n      <th>boreratio</th>\n      <td>0.455094</td>\n      <td>0.594730</td>\n      <td>0.552074</td>\n      <td>0.625109</td>\n      <td>0.300113</td>\n      <td>0.577834</td>\n      <td>1.000000</td>\n      <td>-0.118141</td>\n      <td>-0.181321</td>\n      <td>0.585599</td>\n      <td>-0.210467</td>\n      <td>-0.613023</td>\n      <td>-0.599998</td>\n      <td>0.558740</td>\n      <td>-0.035070</td>\n      <td>0.037708</td>\n      <td>0.558973</td>\n      <td>-0.044152</td>\n    </tr>\n    <tr>\n      <th>stroke</th>\n      <td>0.124127</td>\n      <td>0.099921</td>\n      <td>0.121868</td>\n      <td>0.087940</td>\n      <td>0.021244</td>\n      <td>0.155221</td>\n      <td>-0.118141</td>\n      <td>1.000000</td>\n      <td>-0.217118</td>\n      <td>0.076516</td>\n      <td>0.067930</td>\n      <td>-0.050018</td>\n      <td>-0.037712</td>\n      <td>0.039450</td>\n      <td>0.011235</td>\n      <td>-0.200851</td>\n      <td>-0.072029</td>\n      <td>0.177090</td>\n    </tr>\n    <tr>\n      <th>compressionratio</th>\n      <td>-0.449289</td>\n      <td>-0.394471</td>\n      <td>-0.302124</td>\n      <td>-0.321993</td>\n      <td>-0.036195</td>\n      <td>-0.223768</td>\n      <td>-0.181321</td>\n      <td>-0.217118</td>\n      <td>1.000000</td>\n      <td>-0.041765</td>\n      <td>0.293411</td>\n      <td>0.353192</td>\n      <td>0.366421</td>\n      <td>-0.240339</td>\n      <td>-0.117340</td>\n      <td>-0.098277</td>\n      <td>-0.043904</td>\n      <td>0.062849</td>\n    </tr>\n    <tr>\n      <th>horsepower</th>\n      <td>0.422167</td>\n      <td>0.606867</td>\n      <td>0.700469</td>\n      <td>0.813645</td>\n      <td>0.776246</td>\n      <td>0.868798</td>\n      <td>0.585599</td>\n      <td>0.076516</td>\n      <td>-0.041765</td>\n      <td>1.000000</td>\n      <td>0.085114</td>\n      <td>-0.774101</td>\n      <td>-0.748830</td>\n      <td>0.869209</td>\n      <td>-0.146299</td>\n      <td>-0.109901</td>\n      <td>0.647456</td>\n      <td>0.030858</td>\n    </tr>\n    <tr>\n      <th>peakrpm</th>\n      <td>-0.264759</td>\n      <td>-0.218149</td>\n      <td>-0.124407</td>\n      <td>-0.171154</td>\n      <td>-0.169695</td>\n      <td>-0.219723</td>\n      <td>-0.210467</td>\n      <td>0.067930</td>\n      <td>0.293411</td>\n      <td>0.085114</td>\n      <td>1.000000</td>\n      <td>-0.015436</td>\n      <td>0.005742</td>\n      <td>-0.027285</td>\n      <td>-0.034486</td>\n      <td>-0.147778</td>\n      <td>0.021460</td>\n      <td>-0.124722</td>\n    </tr>\n    <tr>\n      <th>citympg</th>\n      <td>-0.580059</td>\n      <td>-0.779157</td>\n      <td>-0.726442</td>\n      <td>-0.847613</td>\n      <td>-0.499531</td>\n      <td>-0.701495</td>\n      <td>-0.613023</td>\n      <td>-0.050018</td>\n      <td>0.353192</td>\n      <td>-0.774101</td>\n      <td>-0.015436</td>\n      <td>1.000000</td>\n      <td>0.976508</td>\n      <td>-0.734506</td>\n      <td>-0.000546</td>\n      <td>-0.036775</td>\n      <td>-0.621438</td>\n      <td>0.179747</td>\n    </tr>\n    <tr>\n      <th>highwaympg</th>\n      <td>-0.633845</td>\n      <td>-0.794018</td>\n      <td>-0.741147</td>\n      <td>-0.868327</td>\n      <td>-0.527000</td>\n      <td>-0.723239</td>\n      <td>-0.599998</td>\n      <td>-0.037712</td>\n      <td>0.366421</td>\n      <td>-0.748830</td>\n      <td>0.005742</td>\n      <td>0.976508</td>\n      <td>1.000000</td>\n      <td>-0.738428</td>\n      <td>-0.015786</td>\n      <td>-0.075759</td>\n      <td>-0.632116</td>\n      <td>0.177011</td>\n    </tr>\n    <tr>\n      <th>price</th>\n      <td>0.542459</td>\n      <td>0.657901</td>\n      <td>0.732011</td>\n      <td>0.831856</td>\n      <td>0.755364</td>\n      <td>0.888816</td>\n      <td>0.558740</td>\n      <td>0.039450</td>\n      <td>-0.240339</td>\n      <td>0.869209</td>\n      <td>-0.027285</td>\n      <td>-0.734506</td>\n      <td>-0.738428</td>\n      <td>1.000000</td>\n      <td>-0.127144</td>\n      <td>-0.068924</td>\n      <td>0.637254</td>\n      <td>-0.009557</td>\n    </tr>\n    <tr>\n      <th>carbody_cat</th>\n      <td>0.376906</td>\n      <td>0.304269</td>\n      <td>0.097441</td>\n      <td>0.088058</td>\n      <td>-0.030936</td>\n      <td>-0.081546</td>\n      <td>-0.035070</td>\n      <td>0.011235</td>\n      <td>-0.117340</td>\n      <td>-0.146299</td>\n      <td>-0.034486</td>\n      <td>-0.000546</td>\n      <td>-0.015786</td>\n      <td>-0.127144</td>\n      <td>1.000000</td>\n      <td>0.165922</td>\n      <td>-0.201838</td>\n      <td>-0.035140</td>\n    </tr>\n    <tr>\n      <th>drive_4wd</th>\n      <td>-0.059571</td>\n      <td>-0.047702</td>\n      <td>-0.087634</td>\n      <td>0.023798</td>\n      <td>-0.042529</td>\n      <td>-0.079863</td>\n      <td>0.037708</td>\n      <td>-0.200851</td>\n      <td>-0.098277</td>\n      <td>-0.109901</td>\n      <td>-0.147778</td>\n      <td>-0.036775</td>\n      <td>-0.075759</td>\n      <td>-0.068924</td>\n      <td>0.165922</td>\n      <td>1.000000</td>\n      <td>-0.145657</td>\n      <td>0.050632</td>\n    </tr>\n    <tr>\n      <th>drive_rwd</th>\n      <td>0.415579</td>\n      <td>0.505995</td>\n      <td>0.465912</td>\n      <td>0.656716</td>\n      <td>0.372498</td>\n      <td>0.553151</td>\n      <td>0.558973</td>\n      <td>-0.072029</td>\n      <td>-0.043904</td>\n      <td>0.647456</td>\n      <td>0.021460</td>\n      <td>-0.621438</td>\n      <td>-0.632116</td>\n      <td>0.637254</td>\n      <td>-0.201838</td>\n      <td>-0.145657</td>\n      <td>1.000000</td>\n      <td>-0.293796</td>\n    </tr>\n    <tr>\n      <th>OHC_Code</th>\n      <td>-0.188111</td>\n      <td>-0.099035</td>\n      <td>-0.109705</td>\n      <td>-0.100300</td>\n      <td>0.287682</td>\n      <td>0.175103</td>\n      <td>-0.044152</td>\n      <td>0.177090</td>\n      <td>0.062849</td>\n      <td>0.030858</td>\n      <td>-0.124722</td>\n      <td>0.179747</td>\n      <td>0.177011</td>\n      <td>-0.009557</td>\n      <td>-0.035140</td>\n      <td>0.050632</td>\n      <td>-0.293796</td>\n      <td>1.000000</td>\n    </tr>\n  </tbody>\n</table>\n</div>"
     },
     "metadata": {},
     "execution_count": 395
    }
   ],
   "source": [
    "data.corr()"
   ]
  },
  {
   "cell_type": "code",
   "execution_count": 396,
   "metadata": {},
   "outputs": [],
   "source": [
    "feature_cols = [\n",
    "    'wheelbase', 'carlength', 'carwidth', 'curbweight', 'cylindernumber',\n",
    "    'enginesize', 'boreratio','compressionratio','horsepower','citympg','highwaympg',\n",
    "    'carbody_cat','drive_4wd','drive_rwd'\n",
    "]\n",
    "data_X = data.loc[:,feature_cols]\n",
    "data_Y = data.loc[:, 'price']\n",
    "data_X_train, data_X_test, data_y_train, data_y_test = train_test_split(\n",
    "    data_X, data_Y,test_size=0.3, random_state=360)"
   ]
  },
  {
   "cell_type": "code",
   "execution_count": 397,
   "metadata": {},
   "outputs": [
    {
     "output_type": "execute_result",
     "data": {
      "text/plain": [
       "(0.8478164344185322, 0.8059326051550549)"
      ]
     },
     "metadata": {},
     "execution_count": 397
    }
   ],
   "source": [
    "cl1_1 = KNeighborsRegressor(n_neighbors=5)\n",
    "cl1_1.fit(data_X_train, data_y_train)\n",
    "target1_0 = cl1_1.predict(data_X_train)\n",
    "target1_1 = cl1_1.predict(data_X_test)\n",
    "r2_score(data_y_train, target1_0), r2_score(data_y_test, target1_1)"
   ]
  },
  {
   "cell_type": "code",
   "execution_count": 398,
   "metadata": {},
   "outputs": [
    {
     "output_type": "execute_result",
     "data": {
      "text/plain": [
       "(array([0.52222292, 0.83105339, 0.49206234, 0.57117351]), 0.6041280385896937)"
      ]
     },
     "metadata": {},
     "execution_count": 398
    }
   ],
   "source": [
    "scores = cross_val_score(KNeighborsRegressor(n_neighbors=5), \n",
    "                         data_X, data_Y, \n",
    "                         cv=4)\n",
    "scores, np.mean(scores)"
   ]
  },
  {
   "cell_type": "code",
   "execution_count": 399,
   "metadata": {},
   "outputs": [
    {
     "output_type": "execute_result",
     "data": {
      "text/plain": [
       "(0.7792957832531995, {'n_neighbors': 3}, KNeighborsRegressor(n_neighbors=3))"
      ]
     },
     "metadata": {},
     "execution_count": 399
    }
   ],
   "source": [
    "grid = GridSearchCV(estimator = KNeighborsRegressor() ,param_grid={'n_neighbors': range(1,50,1)},cv=RepeatedKFold(n_splits=3, n_repeats=3),scoring=\"r2\")\n",
    "grid.fit(data_X,data_Y)\n",
    "grid.best_score_ , grid.best_params_,grid.best_estimator_"
   ]
  },
  {
   "cell_type": "code",
   "execution_count": 400,
   "metadata": {},
   "outputs": [
    {
     "output_type": "execute_result",
     "data": {
      "text/plain": [
       "(0.9263546306766518, 0.8207513968468391)"
      ]
     },
     "metadata": {},
     "execution_count": 400
    }
   ],
   "source": [
    "grid.best_estimator_.fit(data_X_train, data_y_train)\n",
    "target2_0 = grid.best_estimator_.predict(data_X_train)\n",
    "target2_1 = grid.best_estimator_.predict(data_X_test)\n",
    "r2_score(data_y_train, target2_0), r2_score(data_y_test, target2_1)"
   ]
  },
  {
   "cell_type": "code",
   "execution_count": 401,
   "metadata": {},
   "outputs": [
    {
     "output_type": "stream",
     "name": "stdout",
     "text": [
      "0.77 r^2 with a standard deviation of 0.07\n"
     ]
    }
   ],
   "source": [
    "scores = cross_val_score(grid.best_estimator_, data_X, data_Y, cv=RepeatedKFold(n_splits=3, n_repeats=3))\n",
    "print(\"%0.2f r^2 with a standard deviation of %0.2f\" % (scores.mean(), scores.std()))"
   ]
  }
 ]
}